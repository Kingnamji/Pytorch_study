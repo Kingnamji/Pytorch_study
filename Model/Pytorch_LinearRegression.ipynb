{
  "nbformat": 4,
  "nbformat_minor": 0,
  "metadata": {
    "colab": {
      "name": "Pytorch_LinearRegression",
      "provenance": []
    },
    "kernelspec": {
      "name": "python3",
      "display_name": "Python 3"
    },
    "language_info": {
      "name": "python"
    }
  },
  "cells": [
    {
      "cell_type": "code",
      "metadata": {
        "id": "re-cCNW947-s"
      },
      "source": [
        "import torch\n",
        "import torch.nn as nn\n",
        "import torch.optim as optim"
      ],
      "execution_count": 29,
      "outputs": []
    },
    {
      "cell_type": "code",
      "metadata": {
        "id": "4hknBkyR26eB"
      },
      "source": [
        "# 데이터\n",
        "X = torch.FloatTensor([[1], [2], [3]]) # 이동 시간\n",
        "Y = torch.FloatTensor([[70], [140], [210]]) # 이동 거리"
      ],
      "execution_count": 30,
      "outputs": []
    },
    {
      "cell_type": "code",
      "metadata": {
        "id": "u46nJnGZ5yaR"
      },
      "source": [
        "# 가중치, 편향 초기화\n",
        "W = torch.zeros(1, requires_grad=True)\n",
        "b = torch.zeros(1, requires_grad=True)\n",
        "\n",
        "loss_fn  = nn.MSELoss()\n",
        "optimizer = optim.SGD([W,b], lr = 0.01)"
      ],
      "execution_count": 31,
      "outputs": []
    },
    {
      "cell_type": "code",
      "metadata": {
        "id": "3FMyn31C8NXP"
      },
      "source": [
        "# 모델 훈련\n",
        "num_epochs = 3000\n",
        "\n",
        "for epoch in range(num_epochs):\n",
        "    model_pred = W * X + b \n",
        "    loss = loss_fn(model_pred, Y)\n",
        "\n",
        "    optimizer.zero_grad() # Gradient 초기화\n",
        "    loss.backward() # 역전파를 통한 기울기 계산\n",
        "    optimizer.step() # Parameter Update"
      ],
      "execution_count": 32,
      "outputs": []
    },
    {
      "cell_type": "code",
      "metadata": {
        "colab": {
          "base_uri": "https://localhost:8080/"
        },
        "id": "nSDonq9CEUmW",
        "outputId": "133d4b00-0289-4978-b1dd-e63634a866fd"
      },
      "source": [
        "print(W, b)"
      ],
      "execution_count": 36,
      "outputs": [
        {
          "output_type": "stream",
          "name": "stdout",
          "text": [
            "tensor([69.9916], requires_grad=True) tensor([0.0190], requires_grad=True)\n"
          ]
        }
      ]
    },
    {
      "cell_type": "code",
      "metadata": {
        "colab": {
          "base_uri": "https://localhost:8080/"
        },
        "id": "IF7Vz3FEFNVC",
        "outputId": "f79bca14-e04c-400a-b938-88257ef3b47f"
      },
      "source": [
        "x_test = 4 # 4시간 이동\n",
        "\n",
        "model_pred = W * x_test + b\n",
        "print(model_pred)"
      ],
      "execution_count": 35,
      "outputs": [
        {
          "output_type": "stream",
          "name": "stdout",
          "text": [
            "tensor([279.9856], grad_fn=<AddBackward0>)\n"
          ]
        }
      ]
    }
  ]
}