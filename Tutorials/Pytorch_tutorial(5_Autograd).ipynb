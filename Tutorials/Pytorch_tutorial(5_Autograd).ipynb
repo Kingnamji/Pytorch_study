{
  "nbformat": 4,
  "nbformat_minor": 0,
  "metadata": {
    "colab": {
      "name": "Pytorch_tutorial(5_Autograd)",
      "provenance": []
    },
    "kernelspec": {
      "name": "python3",
      "display_name": "Python 3"
    },
    "language_info": {
      "name": "python"
    }
  },
  "cells": [
    {
      "cell_type": "markdown",
      "metadata": {
        "id": "cxevjX2HG1IL"
      },
      "source": [
        "# 자동 미분"
      ]
    },
    {
      "cell_type": "markdown",
      "metadata": {
        "id": "ZmgnsSe-G5kl"
      },
      "source": [
        "신경망을 학습할 때 가장 자주 사용되는 알고리즘은 **역전파** \n",
        "\n",
        "이 알고리즘에서, 매개변수(모델 가중치)는 주어진 매개변수에 대한 손실 함수의 변화도(gradient)에 따라 조정"
      ]
    },
    {
      "cell_type": "markdown",
      "metadata": {
        "id": "1a76horMHDm3"
      },
      "source": [
        "변화도를 계산하기 위해 PyTorch에는 torch.autograd라고 불리는 자동 미분 엔진이 내장되어 있다.\n",
        "\n",
        " 이는 모든 계산 그래프에 대한 변화도의 자동 계산을 지원"
      ]
    },
    {
      "cell_type": "code",
      "metadata": {
        "id": "SVAm8Dh2HDLo"
      },
      "source": [
        "# 단일 계층 신경망 가정\n",
        "import torch\n",
        "\n",
        "x = torch.ones(5)  # input tensor\n",
        "y = torch.zeros(3)  # expected output\n",
        "# 변수들에 대한 손실 함수의 변화도를 계산할 수 있어야 한다.\n",
        "w = torch.randn(5, 3, requires_grad=True)  # 이를 위해서 해당 텐서에 requires_grad 속성을 설정 (w, b)\n",
        "b = torch.randn(3, requires_grad=True)\n",
        "z = torch.matmul(x, w)+b\n",
        "loss = torch.nn.functional.binary_cross_entropy_with_logits(z, y)"
      ],
      "execution_count": 1,
      "outputs": []
    },
    {
      "cell_type": "markdown",
      "metadata": {
        "id": "-rY1lnG9Hz3e"
      },
      "source": [
        "w와 b는 최적화를 해야 하는 매개변수"
      ]
    },
    {
      "cell_type": "code",
      "metadata": {
        "colab": {
          "base_uri": "https://localhost:8080/"
        },
        "id": "cntWy3J-G83D",
        "outputId": "69c14b08-0de6-4aa3-92c3-10a6ea3d7709"
      },
      "source": [
        "print('Gradient function for z =', z.grad_fn)\n",
        "print('Gradient function for loss =', loss.grad_fn)"
      ],
      "execution_count": 2,
      "outputs": [
        {
          "output_type": "stream",
          "text": [
            "Gradient function for z = <AddBackward0 object at 0x7faaba992fd0>\n",
            "Gradient function for loss = <BinaryCrossEntropyWithLogitsBackward object at 0x7faaba992f90>\n"
          ],
          "name": "stdout"
        }
      ]
    },
    {
      "cell_type": "markdown",
      "metadata": {
        "id": "im55PtOvIWm0"
      },
      "source": [
        "# 변화도(Gradient) 계산하기"
      ]
    },
    {
      "cell_type": "markdown",
      "metadata": {
        "id": "y59RrTfaIbIA"
      },
      "source": [
        "신경망에서 매개변수의 가중치를 최적화하려면 매개변수에 대한 손실함수의 도함수(derivative)를 계산해야 한다. 즉, x와 y의 일부 고정값에서 ∂loss/∂w와 ∂loss/∂b 가 필요\n",
        "\n",
        "도함수를 계산하기 위해, loss.backward() 를 호출한 다음 w.grad와 b.grad에서 값을 가져온다."
      ]
    },
    {
      "cell_type": "code",
      "metadata": {
        "colab": {
          "base_uri": "https://localhost:8080/"
        },
        "id": "EheGUbqpIpJZ",
        "outputId": "4159e248-f169-4dc2-8fca-57af079e22e5"
      },
      "source": [
        "loss.backward()\n",
        "print(w.grad)\n",
        "print(b.grad)"
      ],
      "execution_count": 3,
      "outputs": [
        {
          "output_type": "stream",
          "text": [
            "tensor([[0.1726, 0.2885, 0.0013],\n",
            "        [0.1726, 0.2885, 0.0013],\n",
            "        [0.1726, 0.2885, 0.0013],\n",
            "        [0.1726, 0.2885, 0.0013],\n",
            "        [0.1726, 0.2885, 0.0013]])\n",
            "tensor([0.1726, 0.2885, 0.0013])\n"
          ],
          "name": "stdout"
        }
      ]
    },
    {
      "cell_type": "markdown",
      "metadata": {
        "id": "BICb4Oi_I1-M"
      },
      "source": [
        "- 연산 그래프의 잎(leaf) 노드들 중 requires_grad 속성이 True로 설정된 노드들의 grad 속성만 구할 수 있다. 그래프의 다른 모든 노드에서는 변화도가 유효하지 않다.\n",
        "\n",
        "\n",
        "- 성능 상의 이유로, 주어진 그래프에서의 backward를 사용한 변화도 계산은 한 번만 수행가능, 만약 동일한 그래프에서 여러번의 backward 호출이 필요하면, backward 호출 시에 retrain_graph=True를 전달해야 한다."
      ]
    },
    {
      "cell_type": "markdown",
      "metadata": {
        "id": "V0yXtCQtJKD2"
      },
      "source": [
        "# 변화도 추적 멈추기"
      ]
    },
    {
      "cell_type": "markdown",
      "metadata": {
        "id": "Btv38OvTJPc6"
      },
      "source": [
        "기본적으로, requires_grad=True인 모든 텐서들은 연산 기록을 추적하고 변화도 계산을 지원\n",
        "\n",
        " 그러나 모델을 학습한 뒤 입력 데이터를 단순히 적용하기만 하는 경우와 같이 순전파 연산만 필요한 경우에는, 이러한 추적이나 지원이 필요없을 수 있다.\n",
        " \n",
        "연산 코드를 torch.no_grad() 블록으로 둘러싸서 연산 추적을 멈출 수 있다"
      ]
    },
    {
      "cell_type": "code",
      "metadata": {
        "colab": {
          "base_uri": "https://localhost:8080/"
        },
        "id": "LmlFmVTDJXf3",
        "outputId": "90596727-2053-42c8-de17-e6ed6b4971eb"
      },
      "source": [
        "z = torch.matmul(x, w)+b\n",
        "print(z.requires_grad)\n",
        "\n",
        "with torch.no_grad():\n",
        "    z = torch.matmul(x, w)+b\n",
        "print(z.requires_grad)"
      ],
      "execution_count": 4,
      "outputs": [
        {
          "output_type": "stream",
          "text": [
            "True\n",
            "False\n"
          ],
          "name": "stdout"
        }
      ]
    },
    {
      "cell_type": "code",
      "metadata": {
        "colab": {
          "base_uri": "https://localhost:8080/"
        },
        "id": "j6QTVYg_JbJl",
        "outputId": "c1e296e5-0f42-45d0-80ec-d4aff9d44b5e"
      },
      "source": [
        "z = torch.matmul(x, w)+b\n",
        "z_det = z.detach() # no_grad 와 같은 결과\n",
        "print(z_det.requires_grad)"
      ],
      "execution_count": 5,
      "outputs": [
        {
          "output_type": "stream",
          "text": [
            "False\n"
          ],
          "name": "stdout"
        }
      ]
    },
    {
      "cell_type": "markdown",
      "metadata": {
        "id": "hfqA4r_eJvvi"
      },
      "source": [
        "변화도 추적을 멈춰야 하는 이유들:\n",
        "\n",
        "- 신경망의 일부 매개변수를 고정된 매개변수(frozen parameter)로 표시 이는 사전 학습된 신경망을 미세조정 할 때 매우 일반적인 시나리오\n",
        "- 변화도를 추적하지 않는 텐서의 연산이 더 효율적이기 때문에, 순전파 단계만 수행할 때 연산 속도가 향상"
      ]
    },
    {
      "cell_type": "markdown",
      "metadata": {
        "id": "wrOzlR0CKKit"
      },
      "source": [
        "# 연산 그래프에 대한 추가 정보"
      ]
    },
    {
      "cell_type": "markdown",
      "metadata": {
        "id": "otW6t0GwKQ8p"
      },
      "source": [
        "개념적으로, autograd는 데이터(텐서)의 및 실행된 모든 연산들(및 연산 결과가 새로운 텐서인 경우도 포함하여)의 기록을 Function 객체로 구성된 방향성 비순환 그래프(DAG; Directed Acyclic Graph)에 저장(keep)\n",
        "\n",
        "이 방향성 비순환 그래프(DAG)의 잎(leave)은 입력 텐서이고, 뿌리(root)는 결과 텐서\n",
        "\n",
        "이 그래프를 뿌리에서부터 잎까지 추적하면 연쇄 법칙(chain rule)에 따라 변화도를 자동으로 계산할 수 있다."
      ]
    },
    {
      "cell_type": "markdown",
      "metadata": {
        "id": "3cqQT4DnKi7k"
      },
      "source": [
        "**순전파 단계** 에서, autograd는 다음 두 가지 작업을 동시에 수행\n",
        "\n",
        "- 요청된 연산을 수행하여 결과 텐서를 계산하고,\n",
        "- DAG에 연산의 변화도 기능(gradient function) 를 유지(maintain)\n",
        "\n",
        "\n",
        "**역전파 단계** 는 DAG 뿌리(root)에서 .backward() 가 호출될 때 시작, autograd는 이 때:\n",
        "\n",
        "- 각 .grad_fn 으로부터 변화도를 계산하고,\n",
        "- 각 텐서의 .grad 속성에 계산 결과를 쌓고(accumulate),\n",
        "- 연쇄 법칙을 사용하여, 모든 잎(leaf) 텐서들까지 전파(propagate)"
      ]
    },
    {
      "cell_type": "markdown",
      "metadata": {
        "id": "aZKq-xnyLi6P"
      },
      "source": [
        "**PyTorch에서 DAG들은 동적(dynamic)이다.**  주목해야 할 중요한 점은 그래프가 처음부터(from scratch) 다시 생성된다는 것; \n",
        "\n",
        "매번 .bachward() 가 호출되고 나면, autograd는 새로운 그래프를 채우기(populate) 시작.\n",
        "\n",
        " 이러한 점 덕분에 모델에서 흐름 제어(control flow) 구문들을 사용할 수 있게 되는 것.;\n",
        " \n",
        "  매번 반복(iteration)할 때마다 필요하면 모양(shape)이나 크기(size), 연산(operation)을 바꿀 수 있다."
      ]
    },
    {
      "cell_type": "markdown",
      "metadata": {
        "id": "-62CxiNiMNO-"
      },
      "source": [
        "# 야코비안 곱 (Jacobian Product)"
      ]
    },
    {
      "cell_type": "markdown",
      "metadata": {
        "id": "cr8aLIBJMVz0"
      },
      "source": [
        "출력 함수가 임의의 텐서인 경우가 있다. 이럴 때, PyTorch는 실제 변화도가 아닌 야코비안 곱(Jacobian product)을 계산\n",
        "\n",
        "\n",
        "x⃗ =⟨x1,…,xn⟩이고, y⃗ =⟨y1,…,ym⟩일 때 벡터 함수 y⃗ =f(x⃗ )에서 x⃗ 에 대한 y⃗  의 변화도는 야코비안 행렬(Jacobian matrix)로 주어진다."
      ]
    },
    {
      "cell_type": "markdown",
      "metadata": {
        "id": "I-9ea-EdMjv0"
      },
      "source": [
        "야코비안 행렬 자체를 계산하는 대신, PyTorch는 주어진 입력 벡터 v=(v1…vm)에 대한 야코비안 곱(Jacobian Product) vT⋅J을 계산합.\n",
        "\n",
        "이 과정은 v를 인자로 backward를 호출하면 이뤄진다. v의 크기는 곱(product)을 계산하려고 하는 원래 텐서의 크기와 같아야 한다."
      ]
    },
    {
      "cell_type": "code",
      "metadata": {
        "colab": {
          "base_uri": "https://localhost:8080/"
        },
        "id": "RVjBZbgEKMSc",
        "outputId": "d2830bec-a35b-4493-a9d4-c2b2c3654c15"
      },
      "source": [
        "inp = torch.eye(5, requires_grad=True)\n",
        "out = (inp+1).pow(2)\n",
        "out.backward(torch.ones_like(inp), retain_graph=True)\n",
        "print(\"First call\\n\", inp.grad)\n",
        "out.backward(torch.ones_like(inp), retain_graph=True)\n",
        "print(\"\\nSecond call\\n\", inp.grad)\n",
        "inp.grad.zero_()\n",
        "out.backward(torch.ones_like(inp), retain_graph=True)\n",
        "print(\"\\nCall after zeroing gradients\\n\", inp.grad)"
      ],
      "execution_count": 13,
      "outputs": [
        {
          "output_type": "stream",
          "text": [
            "First call\n",
            " tensor([[4., 2., 2., 2., 2.],\n",
            "        [2., 4., 2., 2., 2.],\n",
            "        [2., 2., 4., 2., 2.],\n",
            "        [2., 2., 2., 4., 2.],\n",
            "        [2., 2., 2., 2., 4.]])\n",
            "\n",
            "Second call\n",
            " tensor([[8., 4., 4., 4., 4.],\n",
            "        [4., 8., 4., 4., 4.],\n",
            "        [4., 4., 8., 4., 4.],\n",
            "        [4., 4., 4., 8., 4.],\n",
            "        [4., 4., 4., 4., 8.]])\n",
            "\n",
            "Call after zeroing gradients\n",
            " tensor([[4., 2., 2., 2., 2.],\n",
            "        [2., 4., 2., 2., 2.],\n",
            "        [2., 2., 4., 2., 2.],\n",
            "        [2., 2., 2., 4., 2.],\n",
            "        [2., 2., 2., 2., 4.]])\n"
          ],
          "name": "stdout"
        }
      ]
    }
  ]
}