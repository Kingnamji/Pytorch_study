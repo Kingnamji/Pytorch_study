{
  "nbformat": 4,
  "nbformat_minor": 0,
  "metadata": {
    "colab": {
      "name": "Autograd_2",
      "provenance": [],
      "toc_visible": true
    },
    "kernelspec": {
      "name": "python3",
      "display_name": "Python 3"
    },
    "language_info": {
      "name": "python"
    }
  },
  "cells": [
    {
      "cell_type": "code",
      "metadata": {
        "id": "BojMy215D-Sm"
      },
      "source": [
        "# 단일 계층 신경망 가정\n",
        "import torch"
      ],
      "execution_count": 2,
      "outputs": []
    },
    {
      "cell_type": "markdown",
      "metadata": {
        "id": "I3EXvajWJcpz"
      },
      "source": [
        "# 예시 1"
      ]
    },
    {
      "cell_type": "markdown",
      "metadata": {
        "id": "5snshazNJx3a"
      },
      "source": [
        "미분만 진행"
      ]
    },
    {
      "cell_type": "code",
      "metadata": {
        "id": "mgBSXs31JjBK"
      },
      "source": [
        "w = torch.tensor(3.0, requires_grad = True)"
      ],
      "execution_count": 3,
      "outputs": []
    },
    {
      "cell_type": "code",
      "metadata": {
        "id": "Ra0Rw2EZJ2LR"
      },
      "source": [
        "y = w**3 + 10"
      ],
      "execution_count": 4,
      "outputs": []
    },
    {
      "cell_type": "code",
      "metadata": {
        "id": "rAAzKUs9J6Qh"
      },
      "source": [
        "y.backward()"
      ],
      "execution_count": 5,
      "outputs": []
    },
    {
      "cell_type": "code",
      "metadata": {
        "colab": {
          "base_uri": "https://localhost:8080/"
        },
        "id": "elki22p8J-oD",
        "outputId": "5eb7bc13-d65c-44a6-95ed-66be57f3c12b"
      },
      "source": [
        "print(f'y를 w로 미분한 값 : {w.grad}')\n",
        "\n",
        "y를 w로 미분한 값 : 27.0"
      ],
      "execution_count": 6,
      "outputs": [
        {
          "output_type": "stream",
          "name": "stdout",
          "text": [
            "y를 w로 미분한 값 : 27.0\n"
          ]
        }
      ]
    },
    {
      "cell_type": "markdown",
      "metadata": {
        "id": "uLbBVCg1TrWv"
      },
      "source": [
        "# 예시2\n"
      ]
    },
    {
      "cell_type": "code",
      "metadata": {
        "id": "o3d4gjW2EAR7"
      },
      "source": [
        "import torch\n",
        "import torch.nn as nn"
      ],
      "execution_count": 35,
      "outputs": []
    },
    {
      "cell_type": "code",
      "metadata": {
        "id": "R3lJXOR5PAqx"
      },
      "source": [
        "# 변수들에 대한 손실 함수의 변화도를 계산할 수 있어야 한다.\n",
        "x = torch.ones(5)  # input\n",
        "y = torch.zeros(3)  # output\n",
        "\n",
        "w = torch.randn(5, 3, requires_grad=True)  # 이를 위해서 해당 텐서에 requires_grad 속성을 설정 (w, b)\n",
        "b = torch.randn(3, requires_grad=True)"
      ],
      "execution_count": 36,
      "outputs": []
    },
    {
      "cell_type": "code",
      "metadata": {
        "id": "Jf1BmjOtO_XF"
      },
      "source": [
        "z = torch.matmul(x, w) + b\n",
        "loss_fn = nn.MSELoss()"
      ],
      "execution_count": 37,
      "outputs": []
    },
    {
      "cell_type": "code",
      "metadata": {
        "colab": {
          "base_uri": "https://localhost:8080/"
        },
        "id": "js1v68eXPCAB",
        "outputId": "6bcdb915-c9b3-43f4-859f-44aba309a55e"
      },
      "source": [
        "loss = loss_fn(z, y)\n",
        "\n",
        "loss.backward()"
      ],
      "execution_count": 38,
      "outputs": [
        {
          "output_type": "stream",
          "name": "stdout",
          "text": [
            "tensor(4.4791, grad_fn=<MseLossBackward>)\n"
          ]
        }
      ]
    },
    {
      "cell_type": "code",
      "metadata": {
        "colab": {
          "base_uri": "https://localhost:8080/"
        },
        "id": "mW727D6FPKGE",
        "outputId": "90987acb-6567-4f4a-a3dd-2a37cea72915"
      },
      "source": [
        "print(f'loss를 w로 미분한 값 :\\n {w.grad}')\n",
        "print(f'loss를 b로 미분한 값 : {b.grad}')"
      ],
      "execution_count": 39,
      "outputs": [
        {
          "output_type": "stream",
          "name": "stdout",
          "text": [
            "loss를 w로 미분한 값 :\n",
            " tensor([[0.0305, 0.4962, 2.3927],\n",
            "        [0.0305, 0.4962, 2.3927],\n",
            "        [0.0305, 0.4962, 2.3927],\n",
            "        [0.0305, 0.4962, 2.3927],\n",
            "        [0.0305, 0.4962, 2.3927]])\n",
            "loss를 b로 미분한 값 : tensor([0.0305, 0.4962, 2.3927])\n"
          ]
        }
      ]
    },
    {
      "cell_type": "code",
      "metadata": {
        "colab": {
          "base_uri": "https://localhost:8080/"
        },
        "id": "r9dKgatTR0UO",
        "outputId": "a88b31d2-8264-4f01-959a-dae7980b4cde"
      },
      "source": [
        "with torch.no_grad():\n",
        "    z = torch.matmul(x, w) + b\n",
        "print(z.requires_grad)"
      ],
      "execution_count": 43,
      "outputs": [
        {
          "output_type": "stream",
          "name": "stdout",
          "text": [
            "False\n"
          ]
        }
      ]
    }
  ]
}