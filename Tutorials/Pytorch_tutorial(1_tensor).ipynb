{
  "nbformat": 4,
  "nbformat_minor": 0,
  "metadata": {
    "colab": {
      "name": "Pytorch_tutorial(1_tensor)",
      "provenance": []
    },
    "kernelspec": {
      "name": "python3",
      "display_name": "Python 3"
    },
    "language_info": {
      "name": "python"
    }
  },
  "cells": [
    {
      "cell_type": "code",
      "metadata": {
        "id": "0xmPy0vtAKfI"
      },
      "source": [
        "import torch\n",
        "import numpy as np"
      ],
      "execution_count": 1,
      "outputs": []
    },
    {
      "cell_type": "markdown",
      "metadata": {
        "id": "CB4j6lvcAf5E"
      },
      "source": [
        "# 텐서 초기화"
      ]
    },
    {
      "cell_type": "code",
      "metadata": {
        "colab": {
          "base_uri": "https://localhost:8080/"
        },
        "id": "zbf5IR55Ai51",
        "outputId": "ecda3fca-2515-48db-cb7e-61ac8006bae4"
      },
      "source": [
        "# 데이터로부터 직접 생성하기 (directly)\n",
        "data = [[1, 2],[3, 4]]\n",
        "x_data = torch.tensor(data)\n",
        "print(x_data)"
      ],
      "execution_count": 4,
      "outputs": [
        {
          "output_type": "stream",
          "text": [
            "tensor([[1, 2],\n",
            "        [3, 4]])\n"
          ],
          "name": "stdout"
        }
      ]
    },
    {
      "cell_type": "code",
      "metadata": {
        "colab": {
          "base_uri": "https://localhost:8080/"
        },
        "id": "zKTVeaCXArh0",
        "outputId": "20d10679-6e98-4b40-efb5-5aa02bc53885"
      },
      "source": [
        "# numpy 배열로부터 생성하기\n",
        "np_array = np.array(data)\n",
        "x_np = torch.from_numpy(np_array)\n",
        "print(x_np)"
      ],
      "execution_count": 6,
      "outputs": [
        {
          "output_type": "stream",
          "text": [
            "tensor([[1, 2],\n",
            "        [3, 4]])\n"
          ],
          "name": "stdout"
        }
      ]
    },
    {
      "cell_type": "code",
      "metadata": {
        "colab": {
          "base_uri": "https://localhost:8080/"
        },
        "id": "9cyD9ONfA2xY",
        "outputId": "883872f5-b2b9-408a-c5aa-98b9d6d006b8"
      },
      "source": [
        "# 다른 텐서로부터 생성하기 => 명시적으로 재정의(override)하지 않는다면, 인자로 주어진 텐서의 속성(모양(shape), 자료형(datatype))을 유지\n",
        "x_ones = torch.ones_like(x_data) # x_data의 속성 유지 (모양, 자료형 그대로 원소 1)\n",
        "print(f\"Ones Tensor: \\n {x_ones} \\n\")\n",
        "\n",
        "x_rand = torch.rand_like(x_data, dtype=torch.float) # x_data의 dtype 변경\n",
        "print(f\"Random Tensor: \\n {x_rand} \\n\")"
      ],
      "execution_count": 16,
      "outputs": [
        {
          "output_type": "stream",
          "text": [
            "Ones Tensor: \n",
            " tensor([[1, 1],\n",
            "        [1, 1]]) \n",
            "\n",
            "Random Tensor: \n",
            " tensor([[0.8800, 0.3651],\n",
            "        [0.5817, 0.8308]]) \n",
            "\n"
          ],
          "name": "stdout"
        }
      ]
    },
    {
      "cell_type": "code",
      "metadata": {
        "colab": {
          "base_uri": "https://localhost:8080/"
        },
        "id": "_fnZJYblBhFD",
        "outputId": "90d0e45b-c496-4227-bc96-812232fb4ca4"
      },
      "source": [
        "# 무작위(random) 또는 상수(constant)값을 이용한 생성\n",
        "\n",
        "shape = (2,3,) # 텐서의 차원을 나타내는 tuple\n",
        "rand_tensor = torch.rand(shape)\n",
        "ones_tensor = torch.ones(shape)\n",
        "zeros_tensor = torch.zeros(shape)\n",
        "\n",
        "print(f\"Random Tensor: \\n {rand_tensor} \\n\")\n",
        "print(f\"Ones Tensor: \\n {ones_tensor} \\n\")\n",
        "print(f\"Zeros Tensor: \\n {zeros_tensor}\")"
      ],
      "execution_count": 17,
      "outputs": [
        {
          "output_type": "stream",
          "text": [
            "Random Tensor: \n",
            " tensor([[0.2970, 0.5369, 0.1436],\n",
            "        [0.8700, 0.4064, 0.8677]]) \n",
            "\n",
            "Ones Tensor: \n",
            " tensor([[1., 1., 1.],\n",
            "        [1., 1., 1.]]) \n",
            "\n",
            "Zeros Tensor: \n",
            " tensor([[0., 0., 0.],\n",
            "        [0., 0., 0.]])\n"
          ],
          "name": "stdout"
        }
      ]
    },
    {
      "cell_type": "markdown",
      "metadata": {
        "id": "-VfJRxQdAgfo"
      },
      "source": [
        "# 텐서의 속성 (Attribute)\n"
      ]
    },
    {
      "cell_type": "code",
      "metadata": {
        "colab": {
          "base_uri": "https://localhost:8080/"
        },
        "id": "bkqPKZNeB2ZY",
        "outputId": "a19fc5bf-d443-42ad-b949-226128d45ab1"
      },
      "source": [
        "# 텐서의 속성은 텐서의 모양(shape), 자료형(datatype) 및 어느 장치에 저장되는지를 나타낸다.\n",
        "tensor = torch.rand(3,4)\n",
        "\n",
        "print(f\"Shape of tensor: {tensor.shape}\") # shape(모양) 확인\n",
        "print(f\"Datatype of tensor: {tensor.dtype}\") # 자료형 확인\n",
        "print(f\"Device tensor is stored on: {tensor.device}\") # 어느 장치에 저장되는지 ex) gpu, cpu"
      ],
      "execution_count": 20,
      "outputs": [
        {
          "output_type": "stream",
          "text": [
            "Shape of tensor: torch.Size([3, 4])\n",
            "Datatype of tensor: torch.float32\n",
            "Device tensor is stored on: cpu\n"
          ],
          "name": "stdout"
        }
      ]
    },
    {
      "cell_type": "markdown",
      "metadata": {
        "id": "jcTU3DNpCONf"
      },
      "source": [
        "# 텐서 연산(Operation)"
      ]
    },
    {
      "cell_type": "markdown",
      "metadata": {
        "id": "gURr5qJ4CWjk"
      },
      "source": [
        "[토치 관련 연산 확인]\n",
        "\n",
        "https://pytorch.org/docs/stable/torch.html "
      ]
    },
    {
      "cell_type": "code",
      "metadata": {
        "id": "8RLGroEUCRWa"
      },
      "source": [
        "# GPU가 존재하면 텐서를 이동  , 기본적으로 텐서는 cpu에 생성\n",
        "if torch.cuda.is_available():\n",
        "  tensor = tensor.to('cuda')"
      ],
      "execution_count": 22,
      "outputs": []
    },
    {
      "cell_type": "code",
      "metadata": {
        "colab": {
          "base_uri": "https://localhost:8080/"
        },
        "id": "i9pX7oZSCo0C",
        "outputId": "c289abdc-a3e9-4361-9abd-893bbf2a0baa"
      },
      "source": [
        "# numpy 식의 표준 인덱싱 및 슬라이싱\n",
        "\n",
        "tensor = torch.ones(4, 4) # 4*4 Shape의 모든 원소가 1 인 torch 생성\n",
        "print('First row: ',tensor[0])\n",
        "print('First column: ', tensor[:, 0])\n",
        "print('Last column:', tensor[..., -1])\n",
        "tensor[:,1] = 0 # Second Column 의 원소들을 0으로 \n",
        "print(tensor)"
      ],
      "execution_count": 24,
      "outputs": [
        {
          "output_type": "stream",
          "text": [
            "First row:  tensor([1., 1., 1., 1.])\n",
            "First column:  tensor([1., 1., 1., 1.])\n",
            "Last column: tensor([1., 1., 1., 1.])\n",
            "tensor([[1., 0., 1., 1.],\n",
            "        [1., 0., 1., 1.],\n",
            "        [1., 0., 1., 1.],\n",
            "        [1., 0., 1., 1.]])\n"
          ],
          "name": "stdout"
        }
      ]
    },
    {
      "cell_type": "markdown",
      "metadata": {
        "id": "VM8G6xcADKKy"
      },
      "source": [
        "[torch.stack]\n",
        "\n",
        "https://pytorch.org/docs/stable/generated/torch.stack.html"
      ]
    },
    {
      "cell_type": "code",
      "metadata": {
        "colab": {
          "base_uri": "https://localhost:8080/"
        },
        "id": "Sj3kWUkmC8X9",
        "outputId": "e9b44475-46a9-4329-8f89-90d494af7bd6"
      },
      "source": [
        "# 텐서 합치기 torch.cat 을 사용하여 주어진 차원에 따라 일련의 텐서를 연결 \n",
        "# torch.stack 과는 다름\n",
        "print(\"Using cat method\")\n",
        "t1 = torch.cat([tensor, tensor, tensor], dim=1)\n",
        "print(t1.shape)\n",
        "print(t1)\n",
        "\n",
        "t2 = torch.cat([tensor, tensor, tensor], dim=0)\n",
        "print(t2.shape)\n",
        "print(t2)\n",
        "\n",
        "# torch.stack\n",
        "print(\"\\nUsing stack method\") # 3차원의 tensor가 만들어진 것을 확인\n",
        "t3 = torch.stack([tensor, tensor, tensor], dim=1)\n",
        "print(t3.shape)\n",
        "print(t3)\n",
        "\n",
        "t4 = torch.stack([tensor, tensor, tensor], dim=0)\n",
        "print(t4.shape)\n",
        "print(t4)"
      ],
      "execution_count": 35,
      "outputs": [
        {
          "output_type": "stream",
          "text": [
            "Using cat method\n",
            "torch.Size([4, 12])\n",
            "tensor([[1., 0., 1., 1., 1., 0., 1., 1., 1., 0., 1., 1.],\n",
            "        [1., 0., 1., 1., 1., 0., 1., 1., 1., 0., 1., 1.],\n",
            "        [1., 0., 1., 1., 1., 0., 1., 1., 1., 0., 1., 1.],\n",
            "        [1., 0., 1., 1., 1., 0., 1., 1., 1., 0., 1., 1.]])\n",
            "torch.Size([12, 4])\n",
            "tensor([[1., 0., 1., 1.],\n",
            "        [1., 0., 1., 1.],\n",
            "        [1., 0., 1., 1.],\n",
            "        [1., 0., 1., 1.],\n",
            "        [1., 0., 1., 1.],\n",
            "        [1., 0., 1., 1.],\n",
            "        [1., 0., 1., 1.],\n",
            "        [1., 0., 1., 1.],\n",
            "        [1., 0., 1., 1.],\n",
            "        [1., 0., 1., 1.],\n",
            "        [1., 0., 1., 1.],\n",
            "        [1., 0., 1., 1.]])\n",
            "\n",
            "Using stack method\n",
            "torch.Size([4, 3, 4])\n",
            "tensor([[[1., 0., 1., 1.],\n",
            "         [1., 0., 1., 1.],\n",
            "         [1., 0., 1., 1.]],\n",
            "\n",
            "        [[1., 0., 1., 1.],\n",
            "         [1., 0., 1., 1.],\n",
            "         [1., 0., 1., 1.]],\n",
            "\n",
            "        [[1., 0., 1., 1.],\n",
            "         [1., 0., 1., 1.],\n",
            "         [1., 0., 1., 1.]],\n",
            "\n",
            "        [[1., 0., 1., 1.],\n",
            "         [1., 0., 1., 1.],\n",
            "         [1., 0., 1., 1.]]])\n",
            "torch.Size([3, 4, 4])\n",
            "tensor([[[1., 0., 1., 1.],\n",
            "         [1., 0., 1., 1.],\n",
            "         [1., 0., 1., 1.],\n",
            "         [1., 0., 1., 1.]],\n",
            "\n",
            "        [[1., 0., 1., 1.],\n",
            "         [1., 0., 1., 1.],\n",
            "         [1., 0., 1., 1.],\n",
            "         [1., 0., 1., 1.]],\n",
            "\n",
            "        [[1., 0., 1., 1.],\n",
            "         [1., 0., 1., 1.],\n",
            "         [1., 0., 1., 1.],\n",
            "         [1., 0., 1., 1.]]])\n"
          ],
          "name": "stdout"
        }
      ]
    },
    {
      "cell_type": "code",
      "metadata": {
        "colab": {
          "base_uri": "https://localhost:8080/"
        },
        "id": "hIXZKd_nEJ0c",
        "outputId": "5c498eda-b8cd-4b8e-cf62-8f52c1c3171d"
      },
      "source": [
        "# 산술 연산(Arithmetic operations)\n",
        "\n",
        "# 두 텐서 간의 행렬 곱(matrix multiplication)을 계산 \n",
        "print(\"[ matrix multiplication ]\")\n",
        "y1 = tensor @ tensor.T\n",
        "print(y1)\n",
        "y2 = tensor.matmul(tensor.T)\n",
        "print(y2)\n",
        "y3 = torch.rand_like(tensor)\n",
        "print(y3)\n",
        "torch.matmul(tensor, tensor.T, out=y3) # out = y3을 통해 y3에 결과 저장\n",
        "print(y3)\n",
        "\n",
        "\n",
        "# 요소별 곱(element-wise product)을 계산\n",
        "print(\"\\n[ element-wise product ]\")\n",
        "z1 = tensor * tensor\n",
        "print(z1)\n",
        "z2 = tensor.mul(tensor)\n",
        "print(z2)\n",
        "z3 = torch.rand_like(tensor)\n",
        "print(z3)\n",
        "torch.mul(tensor, tensor, out=z3) # out = z3을 통해 z3에 결과 저장\n",
        "print(z3)"
      ],
      "execution_count": 51,
      "outputs": [
        {
          "output_type": "stream",
          "text": [
            "[ matrix multiplication ]\n",
            "tensor([[3., 3., 3., 3.],\n",
            "        [3., 3., 3., 3.],\n",
            "        [3., 3., 3., 3.],\n",
            "        [3., 3., 3., 3.]])\n",
            "tensor([[3., 3., 3., 3.],\n",
            "        [3., 3., 3., 3.],\n",
            "        [3., 3., 3., 3.],\n",
            "        [3., 3., 3., 3.]])\n",
            "tensor([[0.8777, 0.1843, 0.0943, 0.5050],\n",
            "        [0.7959, 0.4853, 0.7392, 0.7659],\n",
            "        [0.1348, 0.1375, 0.2602, 0.1981],\n",
            "        [0.5177, 0.3875, 0.0459, 0.6317]])\n",
            "tensor([[3., 3., 3., 3.],\n",
            "        [3., 3., 3., 3.],\n",
            "        [3., 3., 3., 3.],\n",
            "        [3., 3., 3., 3.]])\n",
            "\n",
            "[ element-wise product ]\n",
            "tensor([[1., 0., 1., 1.],\n",
            "        [1., 0., 1., 1.],\n",
            "        [1., 0., 1., 1.],\n",
            "        [1., 0., 1., 1.]])\n",
            "tensor([[1., 0., 1., 1.],\n",
            "        [1., 0., 1., 1.],\n",
            "        [1., 0., 1., 1.],\n",
            "        [1., 0., 1., 1.]])\n",
            "tensor([[0.9889, 0.6315, 0.3156, 0.2516],\n",
            "        [0.4048, 0.9346, 0.9668, 0.7287],\n",
            "        [0.2098, 0.0652, 0.2703, 0.0692],\n",
            "        [0.7696, 0.5693, 0.0512, 0.7784]])\n",
            "tensor([[1., 0., 1., 1.],\n",
            "        [1., 0., 1., 1.],\n",
            "        [1., 0., 1., 1.],\n",
            "        [1., 0., 1., 1.]])\n"
          ],
          "name": "stdout"
        }
      ]
    },
    {
      "cell_type": "markdown",
      "metadata": {
        "id": "DxLFcvy3GkvD"
      },
      "source": [
        "단일-요소(single-element) 텐서\n",
        "\n",
        "- 텐서의 모든 값을 하나로 집계(aggregate)하여 요소가 하나인 텐서의 경우, item() 을 사용하여 Python 숫자 값으로 변환"
      ]
    },
    {
      "cell_type": "code",
      "metadata": {
        "colab": {
          "base_uri": "https://localhost:8080/"
        },
        "id": "ZmIzzdgqGCCn",
        "outputId": "e1221969-dca5-4fe5-bcf1-ff12aaac5c40"
      },
      "source": [
        "# 단일 요소 텐서\n",
        "agg = tensor.sum()\n",
        "print(agg)\n",
        "\n",
        "agg_item = agg.item()\n",
        "print(agg_item, type(agg_item))\n",
        "\n",
        "# tensor_item = tensor.item() => element가 하나가 아니기 때문에 에러\n",
        "# only one element tensors can be converted to Python scalars"
      ],
      "execution_count": 58,
      "outputs": [
        {
          "output_type": "stream",
          "text": [
            "tensor(12.)\n",
            "12.0 <class 'float'>\n"
          ],
          "name": "stdout"
        }
      ]
    },
    {
      "cell_type": "markdown",
      "metadata": {
        "id": "aknjPTeuHJ7k"
      },
      "source": [
        "바꿔치기(in-place) 연산 \n",
        "- 연산 결과를 피연산자(operand)에 저장하는 연산\n",
        "- _ 접미사를 갖는다. \n",
        "- ex : x.copy_(y) 나 x.t_() 는 x 를 변경"
      ]
    },
    {
      "cell_type": "markdown",
      "metadata": {
        "id": "lsff_u5zHzOn"
      },
      "source": [
        "바꿔치기 연산은 메모리를 일부 절약 But 기록(history)이 즉시 삭제되어 도함수(derivative) 계산에 문제가 발생할 수 있다. 따라서, 사용 굳이 XXX"
      ]
    },
    {
      "cell_type": "code",
      "metadata": {
        "colab": {
          "base_uri": "https://localhost:8080/"
        },
        "id": "YopkwQOtG0MX",
        "outputId": "035fde27-151c-44a0-c4ea-15921c9ef4be"
      },
      "source": [
        "print(tensor, \"\\n\") # 피연산자 tensor\n",
        "tensor.add_(5) # add_ => _ 접미사\n",
        "print(tensor)\n",
        "\n",
        "tensor.copy_(z3)\n",
        "print()\n",
        "print(tensor)\n",
        "\n",
        "tensor.t_() # transpose\n",
        "print()\n",
        "print(tensor)"
      ],
      "execution_count": 64,
      "outputs": [
        {
          "output_type": "stream",
          "text": [
            "tensor([[1., 0., 1., 1.],\n",
            "        [1., 0., 1., 1.],\n",
            "        [1., 0., 1., 1.],\n",
            "        [1., 0., 1., 1.]]) \n",
            "\n",
            "tensor([[6., 5., 6., 6.],\n",
            "        [6., 5., 6., 6.],\n",
            "        [6., 5., 6., 6.],\n",
            "        [6., 5., 6., 6.]])\n",
            "\n",
            "tensor([[1., 0., 1., 1.],\n",
            "        [1., 0., 1., 1.],\n",
            "        [1., 0., 1., 1.],\n",
            "        [1., 0., 1., 1.]])\n",
            "\n",
            "tensor([[1., 1., 1., 1.],\n",
            "        [0., 0., 0., 0.],\n",
            "        [1., 1., 1., 1.],\n",
            "        [1., 1., 1., 1.]])\n"
          ],
          "name": "stdout"
        }
      ]
    },
    {
      "cell_type": "markdown",
      "metadata": {
        "id": "1q-WuVZqH75P"
      },
      "source": [
        "# Numpy 변환(Bridge)"
      ]
    },
    {
      "cell_type": "markdown",
      "metadata": {
        "id": "KNp3cpbaIFPS"
      },
      "source": [
        "주의 !!!!! \n",
        "\n",
        "CPU 상의 텐서와 NumPy 배열은 메모리 공간을 공유하기 때문에, 하나를 변경하면 다른 하나도 변경"
      ]
    },
    {
      "cell_type": "code",
      "metadata": {
        "colab": {
          "base_uri": "https://localhost:8080/"
        },
        "id": "ulU1tfBMHc1X",
        "outputId": "6c62a9c8-bb4f-4032-a082-7be08d31af77"
      },
      "source": [
        "# 텐서를 Numpy 배열로\n",
        "t = torch.ones(5)\n",
        "print(f\"t: {t}\")\n",
        "n = t.numpy()\n",
        "print(f\"n: {n}\")"
      ],
      "execution_count": 73,
      "outputs": [
        {
          "output_type": "stream",
          "text": [
            "t: tensor([1., 1., 1., 1., 1.])\n",
            "n: [1. 1. 1. 1. 1.]\n"
          ],
          "name": "stdout"
        }
      ]
    },
    {
      "cell_type": "code",
      "metadata": {
        "colab": {
          "base_uri": "https://localhost:8080/"
        },
        "id": "YtCkjdroILg9",
        "outputId": "e89604fb-6b2f-4d16-fe1d-1ad1fb4ad352"
      },
      "source": [
        "t.add_(1)  # 텐서의 각 원소에 1을 더함\n",
        "print(f\"t: {t}\")\n",
        "print(f\"n: {n}\")  # numpy 배열또한 변경\n",
        "\n",
        "n[0] += 1 # numpy 배열의 첫번째 원소에 1을 더함\n",
        "print(t) # tensor 또한 변경\n",
        "print(n)"
      ],
      "execution_count": 74,
      "outputs": [
        {
          "output_type": "stream",
          "text": [
            "t: tensor([2., 2., 2., 2., 2.])\n",
            "n: [2. 2. 2. 2. 2.]\n",
            "tensor([3., 2., 2., 2., 2.])\n",
            "[3. 2. 2. 2. 2.]\n"
          ],
          "name": "stdout"
        }
      ]
    },
    {
      "cell_type": "code",
      "metadata": {
        "colab": {
          "base_uri": "https://localhost:8080/"
        },
        "id": "XiY0Wk_7IwwJ",
        "outputId": "b27aa0b4-61b4-457c-aa06-2227a5fcb940"
      },
      "source": [
        "# Numpy 배열을 텐서로\n",
        "n = np.ones(5)\n",
        "t = torch.from_numpy(n)\n",
        "\n",
        "print(f\"t: {t}\")\n",
        "print(f\"n: {n}\") "
      ],
      "execution_count": 79,
      "outputs": [
        {
          "output_type": "stream",
          "text": [
            "t: tensor([1., 1., 1., 1., 1.], dtype=torch.float64)\n",
            "n: [1. 1. 1. 1. 1.]\n"
          ],
          "name": "stdout"
        }
      ]
    },
    {
      "cell_type": "code",
      "metadata": {
        "colab": {
          "base_uri": "https://localhost:8080/"
        },
        "id": "BNH9wJ0QJGt5",
        "outputId": "8a00c6b1-2c92-423e-fd2c-0c506d7ae7ad"
      },
      "source": [
        "# 마찬가지로 numpy 배열 변경해보기\n",
        "np.add(n, 1, out=n)\n",
        "print(f\"t: {t}\") # tensor 변경사항 확인\n",
        "print(f\"n: {n}\")"
      ],
      "execution_count": 80,
      "outputs": [
        {
          "output_type": "stream",
          "text": [
            "t: tensor([2., 2., 2., 2., 2.], dtype=torch.float64)\n",
            "n: [2. 2. 2. 2. 2.]\n"
          ],
          "name": "stdout"
        }
      ]
    }
  ]
}